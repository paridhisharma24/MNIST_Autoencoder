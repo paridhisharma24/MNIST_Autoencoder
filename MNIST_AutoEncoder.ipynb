{
  "nbformat": 4,
  "nbformat_minor": 0,
  "metadata": {
    "colab": {
      "name": "Untitled2.ipynb",
      "provenance": [],
      "collapsed_sections": []
    },
    "kernelspec": {
      "name": "python3",
      "display_name": "Python 3"
    },
    "language_info": {
      "name": "python"
    },
    "accelerator": "GPU"
  },
  "cells": [
    {
      "cell_type": "code",
      "metadata": {
        "id": "fhlhOGovPyeH"
      },
      "source": [
        "import numpy as np\n",
        "import matplotlib.pyplot as plt\n",
        "from torchvision import datasets\n",
        "from torchvision.transforms import transforms\n",
        "from torch import nn\n",
        "import torch.nn.functional as F\n",
        "from torch import optim\n",
        "\n",
        "%matplotlib inline"
      ],
      "execution_count": 1,
      "outputs": []
    },
    {
      "cell_type": "code",
      "metadata": {
        "id": "xqnqsF3SQNCm",
        "colab": {
          "base_uri": "https://localhost:8080/"
        },
        "outputId": "b634646f-3608-4bc4-a9e1-4b8b6be26f6a"
      },
      "source": [
        "transform = transforms.ToTensor()\n",
        "\n",
        "train_data = datasets.MNIST(root='data', download=True, transform=transform, train=True)\n",
        "test_data = datasets.MNIST(root='data', download=True, transform=transform, train=False)"
      ],
      "execution_count": 2,
      "outputs": [
        {
          "output_type": "stream",
          "text": [
            "/usr/local/lib/python3.7/dist-packages/torchvision/datasets/mnist.py:498: UserWarning: The given NumPy array is not writeable, and PyTorch does not support non-writeable tensors. This means you can write to the underlying (supposedly non-writeable) NumPy array using the tensor. You may want to copy the array to protect its data or make it writeable before converting it to a tensor. This type of warning will be suppressed for the rest of this program. (Triggered internally at  /pytorch/torch/csrc/utils/tensor_numpy.cpp:180.)\n",
            "  return torch.from_numpy(parsed.astype(m[2], copy=False)).view(*s)\n"
          ],
          "name": "stderr"
        }
      ]
    },
    {
      "cell_type": "code",
      "metadata": {
        "id": "EkBV_dR5RAMz"
      },
      "source": [
        "import torch\n",
        "\n",
        "Train_Loader = torch.utils.data.DataLoader(train_data, batch_size=16)\n",
        "Test_Loader = torch.utils.data.DataLoader(test_data, batch_size=16)"
      ],
      "execution_count": 3,
      "outputs": []
    },
    {
      "cell_type": "code",
      "metadata": {
        "colab": {
          "base_uri": "https://localhost:8080/",
          "height": 181
        },
        "id": "p3sW4jmASWRx",
        "outputId": "9df52908-845e-4f45-a0e7-0f0dacb1915a"
      },
      "source": [
        "images, labels = next(iter(Train_Loader))\n",
        "\n",
        "images = images.numpy()\n",
        "inds = np.random.random_integers(0, 15, 10)\n",
        "\n",
        "fig, axes = plt.subplots(nrows=1, ncols=10, sharex=True, sharey=True, figsize=(20,4))\n",
        "\n",
        "for i, axis in zip(inds, axes):\n",
        "  axis.imshow(np.squeeze(images[i]), cmap='gray')"
      ],
      "execution_count": 4,
      "outputs": [
        {
          "output_type": "stream",
          "text": [
            "/usr/local/lib/python3.7/dist-packages/ipykernel_launcher.py:4: DeprecationWarning: This function is deprecated. Please call randint(0, 15 + 1) instead\n",
            "  after removing the cwd from sys.path.\n"
          ],
          "name": "stderr"
        },
        {
          "output_type": "display_data",
          "data": {
            "image/png": "[encoded data removed]",
            "text/plain": [
              "<Figure size 1440x288 with 10 Axes>"
            ]
          },
          "metadata": {
            "tags": [],
            "needs_background": "light"
          }
        }
      ]
    },
    {
      "cell_type": "code",
      "metadata": {
        "colab": {
          "base_uri": "https://localhost:8080/"
        },
        "id": "QqFPnxOzWPGH",
        "outputId": "a587d935-3e3c-461b-e350-f40ddbcad119"
      },
      "source": [
        "images[0].shape"
      ],
      "execution_count": 5,
      "outputs": [
        {
          "output_type": "execute_result",
          "data": {
            "text/plain": [
              "(1, 28, 28)"
            ]
          },
          "metadata": {
            "tags": []
          },
          "execution_count": 5
        }
      ]
    },
    {
      "cell_type": "code",
      "metadata": {
        "colab": {
          "base_uri": "https://localhost:8080/"
        },
        "id": "CEohe87LV0Jz",
        "outputId": "6348eb20-1b3f-4ef0-9332-44a71773cae7"
      },
      "source": [
        "if torch.cuda.is_available():\n",
        "  train_on_gpu = True\n",
        "  print(\"Training on GPU\")\n",
        "else:\n",
        "  train_on_gpu = False\n",
        "  print(\"Training on CPU\")"
      ],
      "execution_count": 6,
      "outputs": [
        {
          "output_type": "stream",
          "text": [
            "Training on GPU\n"
          ],
          "name": "stdout"
        }
      ]
    },
    {
      "cell_type": "code",
      "metadata": {
        "colab": {
          "base_uri": "https://localhost:8080/"
        },
        "id": "Ki8rtlcvSX-A",
        "outputId": "db0671f0-1373-4a0b-9363-207975982570"
      },
      "source": [
        "class Autoencoder(nn.Module):\n",
        "  def __init__(self):\n",
        "        super(Autoencoder, self).__init__()\n",
        "        self.fc1 = nn.Linear(784, 512)\n",
        "        self.fc2 = nn.Linear(512, 256)\n",
        "        self.fc3 = nn.Linear(256, 64)\n",
        "        self.fc4 = nn.Linear(64, 256)\n",
        "        self.fc5 = nn.Linear(256, 512)\n",
        "        self.fc6 = nn.Linear(512, 784)\n",
        "        \n",
        "  def forward(self, x):\n",
        "        x = x.view(-1, 28*28)\n",
        "        x = F.relu(self.fc1(x))\n",
        "        x = F.relu(self.fc2(x))\n",
        "        x = F.relu(self.fc3(x))\n",
        "        x = F.relu(self.fc4(x))\n",
        "        x = F.relu(self.fc5(x))\n",
        "        x = self.fc6(x)\n",
        "\n",
        "        return x\n",
        "\n",
        "model = Autoencoder()\n",
        "\n",
        "if train_on_gpu:\n",
        "  model.cuda()\n",
        "print(model)"
      ],
      "execution_count": 7,
      "outputs": [
        {
          "output_type": "stream",
          "text": [
            "Autoencoder(\n",
            "  (fc1): Linear(in_features=784, out_features=512, bias=True)\n",
            "  (fc2): Linear(in_features=512, out_features=256, bias=True)\n",
            "  (fc3): Linear(in_features=256, out_features=64, bias=True)\n",
            "  (fc4): Linear(in_features=64, out_features=256, bias=True)\n",
            "  (fc5): Linear(in_features=256, out_features=512, bias=True)\n",
            "  (fc6): Linear(in_features=512, out_features=784, bias=True)\n",
            ")\n"
          ],
          "name": "stdout"
        }
      ]
    },
    {
      "cell_type": "code",
      "metadata": {
        "id": "F_oo1OdiSxrg"
      },
      "source": [
        "optimizer = torch.optim.SGD(model.parameters(), lr = 0.05)\n",
        "loss_fx = nn.MSELoss()"
      ],
      "execution_count": 8,
      "outputs": []
    },
    {
      "cell_type": "code",
      "metadata": {
        "colab": {
          "base_uri": "https://localhost:8080/"
        },
        "id": "7C-bU0gGX-Zs",
        "outputId": "39afd2e1-9584-47ad-dfc3-2574edde1813"
      },
      "source": [
        "epochs = 300\n",
        "\n",
        "for e in range(epochs):\n",
        "  train_loss = 0.0\n",
        "  for images, _ in Train_Loader:\n",
        "    images = images.cuda()\n",
        "    images = images.view(images.size(0), -1)\n",
        "\n",
        "    optimizer.zero_grad()\n",
        "    \n",
        "    output = model(images)\n",
        "    loss = loss_fx(images, output)\n",
        "    loss.backward()\n",
        "\n",
        "    optimizer.step()\n",
        "    train_loss += loss.item() * images.size(0)\n",
        "\n",
        "  train_loss = train_loss/len(Train_Loader)\n",
        "  if(e % 10 == 0):\n",
        "    print(f\"Training loss after epoch {e} is {train_loss}\")"
      ],
      "execution_count": 9,
      "outputs": [
        {
          "output_type": "stream",
          "text": [
            "Training loss after epoch 0 is 1.25803412454923\n",
            "Training loss after epoch 10 is 0.6981140121380488\n",
            "Training loss after epoch 20 is 0.4986779453357061\n",
            "Training loss after epoch 30 is 0.40825511813958487\n",
            "Training loss after epoch 40 is 0.34677280737559\n",
            "Training loss after epoch 50 is 0.30752160905996956\n",
            "Training loss after epoch 60 is 0.27956213761170706\n",
            "Training loss after epoch 70 is 0.25941272290945055\n",
            "Training loss after epoch 80 is 0.2449783499399821\n",
            "Training loss after epoch 90 is 0.23306420597632727\n",
            "Training loss after epoch 100 is 0.22155561665693918\n",
            "Training loss after epoch 110 is 0.21085019178787867\n",
            "Training loss after epoch 120 is 0.2018485747496287\n",
            "Training loss after epoch 130 is 0.1941920830130577\n",
            "Training loss after epoch 140 is 0.18772829958796503\n",
            "Training loss after epoch 150 is 0.18199684728185336\n",
            "Training loss after epoch 160 is 0.176979746089379\n",
            "Training loss after epoch 170 is 0.17257275480826695\n",
            "Training loss after epoch 180 is 0.16866798506975175\n",
            "Training loss after epoch 190 is 0.16508704319397607\n",
            "Training loss after epoch 200 is 0.1616963815132777\n",
            "Training loss after epoch 210 is 0.1584434127410253\n",
            "Training loss after epoch 220 is 0.15539058645566303\n",
            "Training loss after epoch 230 is 0.15257633859117825\n",
            "Training loss after epoch 240 is 0.14999030073682468\n",
            "Training loss after epoch 250 is 0.14760042609969776\n",
            "Training loss after epoch 260 is 0.14538231567343077\n",
            "Training loss after epoch 270 is 0.14334933893680574\n",
            "Training loss after epoch 280 is 0.1415032280921936\n",
            "Training loss after epoch 290 is 0.13982164152463278\n"
          ],
          "name": "stdout"
        }
      ]
    },
    {
      "cell_type": "code",
      "metadata": {
        "id": "G4IgclDOjNZU",
        "colab": {
          "base_uri": "https://localhost:8080/",
          "height": 288
        },
        "outputId": "042687cd-f6b0-4222-ba57-22e7245a068e"
      },
      "source": [
        "images, labels = next(iter(Test_Loader))\n",
        "\n",
        "#model.eval()\n",
        "flat_images = images.view(images.size(0), -1)\n",
        "flat_images = images.cuda()\n",
        "\n",
        "generated_img = model(flat_images)\n",
        "\n",
        "generated_img = generated_img.view(16, 1, 28, 28)\n",
        "\n",
        "generated_img = generated_img.cpu()\n",
        "generated_img = generated_img.detach().numpy()\n",
        "\n",
        "images = images.numpy()\n",
        "inds = np.random.random_integers(0, 15, 10)\n",
        "\n",
        "fig, axes = plt.subplots(nrows=2, ncols=10, sharex=True, sharey=True, figsize=(25,4))\n",
        "\n",
        "for images, row in zip([images, generated_img], axes):\n",
        "    for img, ax in zip(images, row):\n",
        "        ax.imshow(np.squeeze(img), cmap='gray')\n",
        "        ax.get_xaxis().set_visible(False)\n",
        "        ax.get_yaxis().set_visible(False)"
      ],
      "execution_count": 10,
      "outputs": [
        {
          "output_type": "stream",
          "text": [
            "/usr/local/lib/python3.7/dist-packages/ipykernel_launcher.py:15: DeprecationWarning: This function is deprecated. Please call randint(0, 15 + 1) instead\n",
            "  from ipykernel import kernelapp as app\n"
          ],
          "name": "stderr"
        },
        {
          "output_type": "display_data",
          "data": {
            "image/png": "[encoded data removed]",
            "text/plain": [
              "<Figure size 1800x288 with 20 Axes>"
            ]
          },
          "metadata": {
            "tags": [],
            "needs_background": "light"
          }
        }
      ]
    },
    {
      "cell_type": "code",
      "metadata": {
        "id": "lgEAnPAqHtOH"
      },
      "source": [
        ""
      ],
      "execution_count": 10,
      "outputs": []
    }
  ]
}